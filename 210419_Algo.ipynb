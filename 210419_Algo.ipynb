{
  "nbformat": 4,
  "nbformat_minor": 0,
  "metadata": {
    "colab": {
      "name": "210419 Algo.ipynb",
      "provenance": [],
      "collapsed_sections": [],
      "authorship_tag": "ABX9TyMco3kE23gFSmDUI9jH9AtK",
      "include_colab_link": true
    },
    "kernelspec": {
      "name": "python3",
      "display_name": "Python 3"
    },
    "language_info": {
      "name": "python"
    }
  },
  "cells": [
    {
      "cell_type": "markdown",
      "metadata": {
        "id": "view-in-github",
        "colab_type": "text"
      },
      "source": [
        "<a href=\"https://colab.research.google.com/github/seulkioh91/Algorism/blob/main/210419_Algo.ipynb\" target=\"_parent\"><img src=\"https://colab.research.google.com/assets/colab-badge.svg\" alt=\"Open In Colab\"/></a>"
      ]
    },
    {
      "cell_type": "code",
      "metadata": {
        "colab": {
          "base_uri": "https://localhost:8080/"
        },
        "id": "JyEUK7pb8u38",
        "outputId": "ab927121-631b-41b5-975d-d33bd37b56bd"
      },
      "source": [
        "def euclid(x,y):\n",
        "    t = x % y            #x와 y 두 수의 나머지 t를 구한다\n",
        "    while t!=0:                # 반복문 조건 t !=0\n",
        "      y = x            # y값을 x에 \n",
        "      t = y            # t값을 y에\n",
        "      t = x%y          # x와 y의 나머지 t를 구한다.\n",
        "\n",
        "    return abs(y)                # return y 값을 반환\n",
        "    \n",
        "euclid(12,8)"
      ],
      "execution_count": 3,
      "outputs": [
        {
          "output_type": "execute_result",
          "data": {
            "text/plain": [
              "12"
            ]
          },
          "metadata": {
            "tags": []
          },
          "execution_count": 3
        }
      ]
    },
    {
      "cell_type": "code",
      "metadata": {
        "colab": {
          "base_uri": "https://localhost:8080/"
        },
        "id": "ve2Xllvd89qj",
        "outputId": "3132612c-5973-4e3d-ab7b-a15dc1b75e08"
      },
      "source": [
        "euclid(221,143)"
      ],
      "execution_count": 4,
      "outputs": [
        {
          "output_type": "execute_result",
          "data": {
            "text/plain": [
              "221"
            ]
          },
          "metadata": {
            "tags": []
          },
          "execution_count": 4
        }
      ]
    }
  ]
}